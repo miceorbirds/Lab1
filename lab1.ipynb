{
 "metadata": {
  "language_info": {
   "codemirror_mode": {
    "name": "ipython",
    "version": 3
   },
   "file_extension": ".py",
   "mimetype": "text/x-python",
   "name": "python",
   "nbconvert_exporter": "python",
   "pygments_lexer": "ipython3",
   "version": "3.7.9-final"
  },
  "orig_nbformat": 2,
  "kernelspec": {
   "name": "python3",
   "display_name": "Python 3"
  }
 },
 "nbformat": 4,
 "nbformat_minor": 2,
 "cells": [
  {
   "cell_type": "code",
   "execution_count": 45,
   "metadata": {},
   "outputs": [],
   "source": [
    "import pandas as pd\n",
    "import numpy as np\n"
   ]
  },
  {
   "cell_type": "code",
   "execution_count": 46,
   "metadata": {},
   "outputs": [],
   "source": [
    "#init\n",
    "country = 'Poland'\n",
    "age_data_path = 'Data/age_data.xls'\n",
    "both_sheet = 'both; 1950-2005, estimates'\n",
    "female_sheet = 'f; 1950-2005, estimates'\n",
    "male_sheet = 'm; 1950-2005, estimates'\n",
    "\n",
    "unnesessary_rows = range(0,5)\n",
    "# right names for columns in data sheet\n",
    "columns_names = {'Reference date (as of 1 July)':'year','Total population by five-year age groups (thousands)': '0 - 4', 'Unnamed: 7': '5 - 9', 'Unnamed: 8': '10 - 14', 'Unnamed: 9': '15 - 19', 'Unnamed: 10': '20 - 24', 'Unnamed: 11': '25 - 29', 'Unnamed: 12': '30 - 34', 'Unnamed: 13': '35 - 39', 'Unnamed: 14': '40 - 44', 'Unnamed: 15': '45 - 49', 'Unnamed: 16': '50 - 54', 'Unnamed: 17': '55 - 59', 'Unnamed: 18': '60 - 64', 'Unnamed: 19': '65 - 69', 'Unnamed: 20': '70 - 74', 'Unnamed: 21': '75 - 79', 'Unnamed: 22': '80 - 84', 'Unnamed: 23': '85 - 89', 'Unnamed: 24': '90 - 94', 'Unnamed: 25': '95 - 99', 'Unnamed: 26': '100+', 'Female population by five-year age groups (thousands)': '0 - 4', 'Male population by five-year age groups (thousands)': '0 - 4'}\n",
    "# names of unnesessary columns\n",
    "skipped_columns = {'index', 'Index', 'Variant','Major area, region, country or area*', 'Notes', 'Country code'}\n",
    "\n"
   ]
  },
  {
   "cell_type": "code",
   "execution_count": 47,
   "metadata": {},
   "outputs": [],
   "source": [
    "def extract_data(sheet):\n",
    "    data = pd.read_excel(age_data_path, sheet_name=sheet, skiprows = unnesessary_rows)\n",
    "    data = data[data['Major area, region, country or area*'] == country]\n",
    "    data = data.rename(columns=columns_names)\n",
    "    data = data.reset_index().drop(columns = skipped_columns, axis = 1)\n",
    "    data.replace('-', np.nan, inplace= True)\n",
    "    data = data.astype(np.float64)\n",
    "    data = data.astype({'year': np.int64})\n",
    "    return data"
   ]
  },
  {
   "cell_type": "code",
   "execution_count": 49,
   "metadata": {},
   "outputs": [
    {
     "output_type": "execute_result",
     "data": {
      "text/plain": [
       "    year     0 - 4     5 - 9   10 - 14   15 - 19   20 - 24   25 - 29  \\\n",
       "0   1950  1500.000  1022.000  1171.000  1204.000  1159.000  1000.000   \n",
       "1   1955  1807.000  1486.000  1014.000  1158.000  1200.000  1128.000   \n",
       "2   1960  1794.635  1784.609  1478.820   987.551  1126.911  1171.025   \n",
       "3   1965  1453.640  1762.139  1775.118  1468.616   978.412  1109.199   \n",
       "4   1970  1305.028  1433.773  1763.269  1764.875  1437.990   963.079   \n",
       "5   1975  1472.772  1294.376  1418.785  1746.154  1740.135  1414.738   \n",
       "6   1980  1658.658  1465.210  1289.754  1424.658  1709.364  1699.040   \n",
       "7   1985  1754.872  1648.792  1458.178  1282.027  1410.345  1687.799   \n",
       "8   1990  1512.917  1731.082  1651.766  1456.392  1263.358  1359.536   \n",
       "9   1995  1273.475  1504.848  1724.815  1642.230  1440.725  1249.572   \n",
       "10  2000  1037.745  1269.060  1500.208  1717.359  1629.882  1427.518   \n",
       "11  2005   930.552  1034.091  1265.103  1493.999  1706.174  1617.279   \n",
       "\n",
       "     30 - 34   35 - 39   40 - 44  ...   55 - 59  60 - 64  65 - 69  70 - 74  \\\n",
       "0    623.000   810.000   850.000  ...   392.000  312.000  218.000  140.000   \n",
       "1    989.000   614.000   788.000  ...   503.000  344.000  260.000  166.000   \n",
       "2   1123.902   942.434   608.572  ...   644.665  455.176  288.746  180.466   \n",
       "3   1156.123  1113.193   924.499  ...   756.771  590.042  389.368  225.634   \n",
       "4   1089.314  1144.749  1084.092  ...   694.241  668.331  484.519  295.746   \n",
       "5    945.963  1065.705  1112.798  ...   529.665  629.683  567.225  382.745   \n",
       "6   1395.736   923.899  1037.789  ...   797.034  478.293  507.103  452.920   \n",
       "7   1673.796  1371.321   900.055  ...   919.292  710.885  406.067  419.335   \n",
       "8   1652.299  1628.489  1330.256  ...   930.334  815.145  601.448  317.543   \n",
       "9   1342.532  1623.628  1586.828  ...   864.570  820.383  681.145  465.524   \n",
       "10  1235.889  1322.239  1586.339  ...   753.389  770.251  693.354  534.768   \n",
       "11  1414.795  1220.919  1298.043  ...  1133.811  679.638  661.260  553.969   \n",
       "\n",
       "    75 - 79  80 - 84  85 - 89  90 - 94  95 - 99   100+  \n",
       "0    90.000   65.001      NaN      NaN      NaN    NaN  \n",
       "1    97.000   64.001      NaN      NaN      NaN    NaN  \n",
       "2   105.272   75.188      NaN      NaN      NaN    NaN  \n",
       "3   129.789   79.870      NaN      NaN      NaN    NaN  \n",
       "4   168.847   99.631      NaN      NaN      NaN    NaN  \n",
       "5   202.373  121.041      NaN      NaN      NaN    NaN  \n",
       "6   268.139  161.162      NaN      NaN      NaN    NaN  \n",
       "7   297.021  192.028      NaN      NaN      NaN    NaN  \n",
       "8   283.287  233.861      NaN      NaN      NaN    NaN  \n",
       "9   218.918  160.290   67.383   16.904    2.397  0.172  \n",
       "10  327.616  129.338   73.779   22.005    3.347  0.240  \n",
       "11  383.710  197.454   60.315   24.162    4.324  0.330  \n",
       "\n",
       "[12 rows x 22 columns]"
      ],
      "text/html": "<div>\n<style scoped>\n    .dataframe tbody tr th:only-of-type {\n        vertical-align: middle;\n    }\n\n    .dataframe tbody tr th {\n        vertical-align: top;\n    }\n\n    .dataframe thead th {\n        text-align: right;\n    }\n</style>\n<table border=\"1\" class=\"dataframe\">\n  <thead>\n    <tr style=\"text-align: right;\">\n      <th></th>\n      <th>year</th>\n      <th>0 - 4</th>\n      <th>5 - 9</th>\n      <th>10 - 14</th>\n      <th>15 - 19</th>\n      <th>20 - 24</th>\n      <th>25 - 29</th>\n      <th>30 - 34</th>\n      <th>35 - 39</th>\n      <th>40 - 44</th>\n      <th>...</th>\n      <th>55 - 59</th>\n      <th>60 - 64</th>\n      <th>65 - 69</th>\n      <th>70 - 74</th>\n      <th>75 - 79</th>\n      <th>80 - 84</th>\n      <th>85 - 89</th>\n      <th>90 - 94</th>\n      <th>95 - 99</th>\n      <th>100+</th>\n    </tr>\n  </thead>\n  <tbody>\n    <tr>\n      <th>0</th>\n      <td>1950</td>\n      <td>1500.000</td>\n      <td>1022.000</td>\n      <td>1171.000</td>\n      <td>1204.000</td>\n      <td>1159.000</td>\n      <td>1000.000</td>\n      <td>623.000</td>\n      <td>810.000</td>\n      <td>850.000</td>\n      <td>...</td>\n      <td>392.000</td>\n      <td>312.000</td>\n      <td>218.000</td>\n      <td>140.000</td>\n      <td>90.000</td>\n      <td>65.001</td>\n      <td>NaN</td>\n      <td>NaN</td>\n      <td>NaN</td>\n      <td>NaN</td>\n    </tr>\n    <tr>\n      <th>1</th>\n      <td>1955</td>\n      <td>1807.000</td>\n      <td>1486.000</td>\n      <td>1014.000</td>\n      <td>1158.000</td>\n      <td>1200.000</td>\n      <td>1128.000</td>\n      <td>989.000</td>\n      <td>614.000</td>\n      <td>788.000</td>\n      <td>...</td>\n      <td>503.000</td>\n      <td>344.000</td>\n      <td>260.000</td>\n      <td>166.000</td>\n      <td>97.000</td>\n      <td>64.001</td>\n      <td>NaN</td>\n      <td>NaN</td>\n      <td>NaN</td>\n      <td>NaN</td>\n    </tr>\n    <tr>\n      <th>2</th>\n      <td>1960</td>\n      <td>1794.635</td>\n      <td>1784.609</td>\n      <td>1478.820</td>\n      <td>987.551</td>\n      <td>1126.911</td>\n      <td>1171.025</td>\n      <td>1123.902</td>\n      <td>942.434</td>\n      <td>608.572</td>\n      <td>...</td>\n      <td>644.665</td>\n      <td>455.176</td>\n      <td>288.746</td>\n      <td>180.466</td>\n      <td>105.272</td>\n      <td>75.188</td>\n      <td>NaN</td>\n      <td>NaN</td>\n      <td>NaN</td>\n      <td>NaN</td>\n    </tr>\n    <tr>\n      <th>3</th>\n      <td>1965</td>\n      <td>1453.640</td>\n      <td>1762.139</td>\n      <td>1775.118</td>\n      <td>1468.616</td>\n      <td>978.412</td>\n      <td>1109.199</td>\n      <td>1156.123</td>\n      <td>1113.193</td>\n      <td>924.499</td>\n      <td>...</td>\n      <td>756.771</td>\n      <td>590.042</td>\n      <td>389.368</td>\n      <td>225.634</td>\n      <td>129.789</td>\n      <td>79.870</td>\n      <td>NaN</td>\n      <td>NaN</td>\n      <td>NaN</td>\n      <td>NaN</td>\n    </tr>\n    <tr>\n      <th>4</th>\n      <td>1970</td>\n      <td>1305.028</td>\n      <td>1433.773</td>\n      <td>1763.269</td>\n      <td>1764.875</td>\n      <td>1437.990</td>\n      <td>963.079</td>\n      <td>1089.314</td>\n      <td>1144.749</td>\n      <td>1084.092</td>\n      <td>...</td>\n      <td>694.241</td>\n      <td>668.331</td>\n      <td>484.519</td>\n      <td>295.746</td>\n      <td>168.847</td>\n      <td>99.631</td>\n      <td>NaN</td>\n      <td>NaN</td>\n      <td>NaN</td>\n      <td>NaN</td>\n    </tr>\n    <tr>\n      <th>5</th>\n      <td>1975</td>\n      <td>1472.772</td>\n      <td>1294.376</td>\n      <td>1418.785</td>\n      <td>1746.154</td>\n      <td>1740.135</td>\n      <td>1414.738</td>\n      <td>945.963</td>\n      <td>1065.705</td>\n      <td>1112.798</td>\n      <td>...</td>\n      <td>529.665</td>\n      <td>629.683</td>\n      <td>567.225</td>\n      <td>382.745</td>\n      <td>202.373</td>\n      <td>121.041</td>\n      <td>NaN</td>\n      <td>NaN</td>\n      <td>NaN</td>\n      <td>NaN</td>\n    </tr>\n    <tr>\n      <th>6</th>\n      <td>1980</td>\n      <td>1658.658</td>\n      <td>1465.210</td>\n      <td>1289.754</td>\n      <td>1424.658</td>\n      <td>1709.364</td>\n      <td>1699.040</td>\n      <td>1395.736</td>\n      <td>923.899</td>\n      <td>1037.789</td>\n      <td>...</td>\n      <td>797.034</td>\n      <td>478.293</td>\n      <td>507.103</td>\n      <td>452.920</td>\n      <td>268.139</td>\n      <td>161.162</td>\n      <td>NaN</td>\n      <td>NaN</td>\n      <td>NaN</td>\n      <td>NaN</td>\n    </tr>\n    <tr>\n      <th>7</th>\n      <td>1985</td>\n      <td>1754.872</td>\n      <td>1648.792</td>\n      <td>1458.178</td>\n      <td>1282.027</td>\n      <td>1410.345</td>\n      <td>1687.799</td>\n      <td>1673.796</td>\n      <td>1371.321</td>\n      <td>900.055</td>\n      <td>...</td>\n      <td>919.292</td>\n      <td>710.885</td>\n      <td>406.067</td>\n      <td>419.335</td>\n      <td>297.021</td>\n      <td>192.028</td>\n      <td>NaN</td>\n      <td>NaN</td>\n      <td>NaN</td>\n      <td>NaN</td>\n    </tr>\n    <tr>\n      <th>8</th>\n      <td>1990</td>\n      <td>1512.917</td>\n      <td>1731.082</td>\n      <td>1651.766</td>\n      <td>1456.392</td>\n      <td>1263.358</td>\n      <td>1359.536</td>\n      <td>1652.299</td>\n      <td>1628.489</td>\n      <td>1330.256</td>\n      <td>...</td>\n      <td>930.334</td>\n      <td>815.145</td>\n      <td>601.448</td>\n      <td>317.543</td>\n      <td>283.287</td>\n      <td>233.861</td>\n      <td>NaN</td>\n      <td>NaN</td>\n      <td>NaN</td>\n      <td>NaN</td>\n    </tr>\n    <tr>\n      <th>9</th>\n      <td>1995</td>\n      <td>1273.475</td>\n      <td>1504.848</td>\n      <td>1724.815</td>\n      <td>1642.230</td>\n      <td>1440.725</td>\n      <td>1249.572</td>\n      <td>1342.532</td>\n      <td>1623.628</td>\n      <td>1586.828</td>\n      <td>...</td>\n      <td>864.570</td>\n      <td>820.383</td>\n      <td>681.145</td>\n      <td>465.524</td>\n      <td>218.918</td>\n      <td>160.290</td>\n      <td>67.383</td>\n      <td>16.904</td>\n      <td>2.397</td>\n      <td>0.172</td>\n    </tr>\n    <tr>\n      <th>10</th>\n      <td>2000</td>\n      <td>1037.745</td>\n      <td>1269.060</td>\n      <td>1500.208</td>\n      <td>1717.359</td>\n      <td>1629.882</td>\n      <td>1427.518</td>\n      <td>1235.889</td>\n      <td>1322.239</td>\n      <td>1586.339</td>\n      <td>...</td>\n      <td>753.389</td>\n      <td>770.251</td>\n      <td>693.354</td>\n      <td>534.768</td>\n      <td>327.616</td>\n      <td>129.338</td>\n      <td>73.779</td>\n      <td>22.005</td>\n      <td>3.347</td>\n      <td>0.240</td>\n    </tr>\n    <tr>\n      <th>11</th>\n      <td>2005</td>\n      <td>930.552</td>\n      <td>1034.091</td>\n      <td>1265.103</td>\n      <td>1493.999</td>\n      <td>1706.174</td>\n      <td>1617.279</td>\n      <td>1414.795</td>\n      <td>1220.919</td>\n      <td>1298.043</td>\n      <td>...</td>\n      <td>1133.811</td>\n      <td>679.638</td>\n      <td>661.260</td>\n      <td>553.969</td>\n      <td>383.710</td>\n      <td>197.454</td>\n      <td>60.315</td>\n      <td>24.162</td>\n      <td>4.324</td>\n      <td>0.330</td>\n    </tr>\n  </tbody>\n</table>\n<p>12 rows × 22 columns</p>\n</div>"
     },
     "metadata": {},
     "execution_count": 49
    }
   ],
   "source": [
    "#get needed data\n",
    "data_both = extract_data(both_sheet)\n",
    "data_female = extract_data(female_sheet)\n",
    "data_male = extract_data(male_sheet)\n",
    "\n",
    "data_male"
   ]
  },
  {
   "cell_type": "code",
   "execution_count": null,
   "metadata": {},
   "outputs": [],
   "source": []
  }
 ]
}