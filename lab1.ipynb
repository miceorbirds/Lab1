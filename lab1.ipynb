{
 "metadata": {
  "language_info": {
   "codemirror_mode": {
    "name": "ipython",
    "version": 3
   },
   "file_extension": ".py",
   "mimetype": "text/x-python",
   "name": "python",
   "nbconvert_exporter": "python",
   "pygments_lexer": "ipython3",
   "version": "3.7.9-final"
  },
  "orig_nbformat": 2,
  "kernelspec": {
   "name": "python3",
   "display_name": "Python 3"
  }
 },
 "nbformat": 4,
 "nbformat_minor": 2,
 "cells": [
  {
   "cell_type": "code",
   "execution_count": 124,
   "metadata": {},
   "outputs": [],
   "source": [
    "import pandas as pd\n",
    "import numpy as np\n"
   ]
  },
  {
   "cell_type": "code",
   "execution_count": 125,
   "metadata": {},
   "outputs": [
    {
     "output_type": "execute_result",
     "data": {
      "text/plain": [
       "      year    0 - 4    5 - 9  10 - 14  15 - 19  20 - 24  25 - 29  30 - 34  \\\n",
       "0   1950.0     2950     2022     2323     2412     2369     2108     1355   \n",
       "1   1955.0     3525     2923     2000     2297     2393     2322     2079   \n",
       "2   1960.0  3511.07  3499.04  2907.51  1954.05  2225.75  2337.04  2312.97   \n",
       "3   1965.0  2830.41   3448.4  3482.35  2887.31  1934.86  2212.41  2324.23   \n",
       "4   1970.0   2548.8  2803.98  3455.34  3465.58  2845.15  1918.12  2181.94   \n",
       "5   1975.0  2865.86  2533.64  2774.47  3421.77  3422.91  2798.84  1888.58   \n",
       "6   1980.0  3241.64   2864.7  2522.13  2772.79  3339.69  3350.11  2768.47   \n",
       "7   1985.0   3422.8  3223.82  2852.21  2509.06  2750.26     3305  3310.22   \n",
       "8   1990.0  2953.22  3389.23  3230.87  2848.11  2467.42  2677.65  3267.47   \n",
       "9   1995.0  2484.95  2937.41  3377.97  3215.81   2826.2  2446.81   2652.3   \n",
       "10  2000.0  2020.28   2476.7  2928.88   3365.7  3198.04  2807.96  2427.91   \n",
       "11  2005.0  1811.38  2013.46  2469.38  2918.39  3348.99  3179.77  2789.47   \n",
       "\n",
       "    35 - 39  40 - 44  ...  55 - 59  60 - 64  65 - 69  70 - 74  75 - 79  \\\n",
       "0      1766     1793  ...      900      747      531      354      230   \n",
       "1      1334     1724  ...     1149      807      645      426      245   \n",
       "2   2023.23  1313.39  ...  1411.65  1064.75  713.844  491.269  288.746   \n",
       "3   2303.26  2001.75  ...  1626.36  1313.87  940.473  584.052  366.405   \n",
       "4      2290     2243  ...  1545.25  1485.19   1141.7  768.918  479.366   \n",
       "5    2142.8   2241.4  ...  1179.64  1437.93  1313.85  957.516  571.439   \n",
       "6   1855.35  2102.09  ...  1783.33  1096.54  1212.22  1113.83  732.324   \n",
       "7   2731.21  1819.73  ...  1990.89  1647.19  975.952  1074.22  810.209   \n",
       "8   3244.42  2671.25  ...  1972.13  1830.59  1461.56  811.713  793.273   \n",
       "9   3226.72  3185.66  ...  1851.77  1812.87  1620.22  1220.77  614.518   \n",
       "10  2624.34  3175.34  ...  1609.41  1714.46   1617.6  1367.27  940.185   \n",
       "11  2406.29  2589.66  ...  2393.81  1502.27  1547.53  1384.28  1074.74   \n",
       "\n",
       "    80 - 84  85 - 89 90 - 94 95 - 99   100+  \n",
       "0   183.005        -       -       -      -  \n",
       "1   188.001        -       -       -      -  \n",
       "2   216.555        -       -       -      -  \n",
       "3   250.593        -       -       -      -  \n",
       "4   301.715        -       -       -      -  \n",
       "5   401.201        -       -       -      -  \n",
       "6   541.351        -       -       -      -  \n",
       "7   641.892        -       -       -      -  \n",
       "8   765.341        -       -       -      -  \n",
       "9   505.866  240.745  65.331   9.058  0.586  \n",
       "10  403.171  258.637  84.228  12.909  0.873  \n",
       "11  640.062  217.598  98.505  18.947  1.436  \n",
       "\n",
       "[12 rows x 22 columns]"
      ],
      "text/html": "<div>\n<style scoped>\n    .dataframe tbody tr th:only-of-type {\n        vertical-align: middle;\n    }\n\n    .dataframe tbody tr th {\n        vertical-align: top;\n    }\n\n    .dataframe thead th {\n        text-align: right;\n    }\n</style>\n<table border=\"1\" class=\"dataframe\">\n  <thead>\n    <tr style=\"text-align: right;\">\n      <th></th>\n      <th>year</th>\n      <th>0 - 4</th>\n      <th>5 - 9</th>\n      <th>10 - 14</th>\n      <th>15 - 19</th>\n      <th>20 - 24</th>\n      <th>25 - 29</th>\n      <th>30 - 34</th>\n      <th>35 - 39</th>\n      <th>40 - 44</th>\n      <th>...</th>\n      <th>55 - 59</th>\n      <th>60 - 64</th>\n      <th>65 - 69</th>\n      <th>70 - 74</th>\n      <th>75 - 79</th>\n      <th>80 - 84</th>\n      <th>85 - 89</th>\n      <th>90 - 94</th>\n      <th>95 - 99</th>\n      <th>100+</th>\n    </tr>\n  </thead>\n  <tbody>\n    <tr>\n      <th>0</th>\n      <td>1950.0</td>\n      <td>2950</td>\n      <td>2022</td>\n      <td>2323</td>\n      <td>2412</td>\n      <td>2369</td>\n      <td>2108</td>\n      <td>1355</td>\n      <td>1766</td>\n      <td>1793</td>\n      <td>...</td>\n      <td>900</td>\n      <td>747</td>\n      <td>531</td>\n      <td>354</td>\n      <td>230</td>\n      <td>183.005</td>\n      <td>-</td>\n      <td>-</td>\n      <td>-</td>\n      <td>-</td>\n    </tr>\n    <tr>\n      <th>1</th>\n      <td>1955.0</td>\n      <td>3525</td>\n      <td>2923</td>\n      <td>2000</td>\n      <td>2297</td>\n      <td>2393</td>\n      <td>2322</td>\n      <td>2079</td>\n      <td>1334</td>\n      <td>1724</td>\n      <td>...</td>\n      <td>1149</td>\n      <td>807</td>\n      <td>645</td>\n      <td>426</td>\n      <td>245</td>\n      <td>188.001</td>\n      <td>-</td>\n      <td>-</td>\n      <td>-</td>\n      <td>-</td>\n    </tr>\n    <tr>\n      <th>2</th>\n      <td>1960.0</td>\n      <td>3511.07</td>\n      <td>3499.04</td>\n      <td>2907.51</td>\n      <td>1954.05</td>\n      <td>2225.75</td>\n      <td>2337.04</td>\n      <td>2312.97</td>\n      <td>2023.23</td>\n      <td>1313.39</td>\n      <td>...</td>\n      <td>1411.65</td>\n      <td>1064.75</td>\n      <td>713.844</td>\n      <td>491.269</td>\n      <td>288.746</td>\n      <td>216.555</td>\n      <td>-</td>\n      <td>-</td>\n      <td>-</td>\n      <td>-</td>\n    </tr>\n    <tr>\n      <th>3</th>\n      <td>1965.0</td>\n      <td>2830.41</td>\n      <td>3448.4</td>\n      <td>3482.35</td>\n      <td>2887.31</td>\n      <td>1934.86</td>\n      <td>2212.41</td>\n      <td>2324.23</td>\n      <td>2303.26</td>\n      <td>2001.75</td>\n      <td>...</td>\n      <td>1626.36</td>\n      <td>1313.87</td>\n      <td>940.473</td>\n      <td>584.052</td>\n      <td>366.405</td>\n      <td>250.593</td>\n      <td>-</td>\n      <td>-</td>\n      <td>-</td>\n      <td>-</td>\n    </tr>\n    <tr>\n      <th>4</th>\n      <td>1970.0</td>\n      <td>2548.8</td>\n      <td>2803.98</td>\n      <td>3455.34</td>\n      <td>3465.58</td>\n      <td>2845.15</td>\n      <td>1918.12</td>\n      <td>2181.94</td>\n      <td>2290</td>\n      <td>2243</td>\n      <td>...</td>\n      <td>1545.25</td>\n      <td>1485.19</td>\n      <td>1141.7</td>\n      <td>768.918</td>\n      <td>479.366</td>\n      <td>301.715</td>\n      <td>-</td>\n      <td>-</td>\n      <td>-</td>\n      <td>-</td>\n    </tr>\n    <tr>\n      <th>5</th>\n      <td>1975.0</td>\n      <td>2865.86</td>\n      <td>2533.64</td>\n      <td>2774.47</td>\n      <td>3421.77</td>\n      <td>3422.91</td>\n      <td>2798.84</td>\n      <td>1888.58</td>\n      <td>2142.8</td>\n      <td>2241.4</td>\n      <td>...</td>\n      <td>1179.64</td>\n      <td>1437.93</td>\n      <td>1313.85</td>\n      <td>957.516</td>\n      <td>571.439</td>\n      <td>401.201</td>\n      <td>-</td>\n      <td>-</td>\n      <td>-</td>\n      <td>-</td>\n    </tr>\n    <tr>\n      <th>6</th>\n      <td>1980.0</td>\n      <td>3241.64</td>\n      <td>2864.7</td>\n      <td>2522.13</td>\n      <td>2772.79</td>\n      <td>3339.69</td>\n      <td>3350.11</td>\n      <td>2768.47</td>\n      <td>1855.35</td>\n      <td>2102.09</td>\n      <td>...</td>\n      <td>1783.33</td>\n      <td>1096.54</td>\n      <td>1212.22</td>\n      <td>1113.83</td>\n      <td>732.324</td>\n      <td>541.351</td>\n      <td>-</td>\n      <td>-</td>\n      <td>-</td>\n      <td>-</td>\n    </tr>\n    <tr>\n      <th>7</th>\n      <td>1985.0</td>\n      <td>3422.8</td>\n      <td>3223.82</td>\n      <td>2852.21</td>\n      <td>2509.06</td>\n      <td>2750.26</td>\n      <td>3305</td>\n      <td>3310.22</td>\n      <td>2731.21</td>\n      <td>1819.73</td>\n      <td>...</td>\n      <td>1990.89</td>\n      <td>1647.19</td>\n      <td>975.952</td>\n      <td>1074.22</td>\n      <td>810.209</td>\n      <td>641.892</td>\n      <td>-</td>\n      <td>-</td>\n      <td>-</td>\n      <td>-</td>\n    </tr>\n    <tr>\n      <th>8</th>\n      <td>1990.0</td>\n      <td>2953.22</td>\n      <td>3389.23</td>\n      <td>3230.87</td>\n      <td>2848.11</td>\n      <td>2467.42</td>\n      <td>2677.65</td>\n      <td>3267.47</td>\n      <td>3244.42</td>\n      <td>2671.25</td>\n      <td>...</td>\n      <td>1972.13</td>\n      <td>1830.59</td>\n      <td>1461.56</td>\n      <td>811.713</td>\n      <td>793.273</td>\n      <td>765.341</td>\n      <td>-</td>\n      <td>-</td>\n      <td>-</td>\n      <td>-</td>\n    </tr>\n    <tr>\n      <th>9</th>\n      <td>1995.0</td>\n      <td>2484.95</td>\n      <td>2937.41</td>\n      <td>3377.97</td>\n      <td>3215.81</td>\n      <td>2826.2</td>\n      <td>2446.81</td>\n      <td>2652.3</td>\n      <td>3226.72</td>\n      <td>3185.66</td>\n      <td>...</td>\n      <td>1851.77</td>\n      <td>1812.87</td>\n      <td>1620.22</td>\n      <td>1220.77</td>\n      <td>614.518</td>\n      <td>505.866</td>\n      <td>240.745</td>\n      <td>65.331</td>\n      <td>9.058</td>\n      <td>0.586</td>\n    </tr>\n    <tr>\n      <th>10</th>\n      <td>2000.0</td>\n      <td>2020.28</td>\n      <td>2476.7</td>\n      <td>2928.88</td>\n      <td>3365.7</td>\n      <td>3198.04</td>\n      <td>2807.96</td>\n      <td>2427.91</td>\n      <td>2624.34</td>\n      <td>3175.34</td>\n      <td>...</td>\n      <td>1609.41</td>\n      <td>1714.46</td>\n      <td>1617.6</td>\n      <td>1367.27</td>\n      <td>940.185</td>\n      <td>403.171</td>\n      <td>258.637</td>\n      <td>84.228</td>\n      <td>12.909</td>\n      <td>0.873</td>\n    </tr>\n    <tr>\n      <th>11</th>\n      <td>2005.0</td>\n      <td>1811.38</td>\n      <td>2013.46</td>\n      <td>2469.38</td>\n      <td>2918.39</td>\n      <td>3348.99</td>\n      <td>3179.77</td>\n      <td>2789.47</td>\n      <td>2406.29</td>\n      <td>2589.66</td>\n      <td>...</td>\n      <td>2393.81</td>\n      <td>1502.27</td>\n      <td>1547.53</td>\n      <td>1384.28</td>\n      <td>1074.74</td>\n      <td>640.062</td>\n      <td>217.598</td>\n      <td>98.505</td>\n      <td>18.947</td>\n      <td>1.436</td>\n    </tr>\n  </tbody>\n</table>\n<p>12 rows × 22 columns</p>\n</div>"
     },
     "metadata": {},
     "execution_count": 125
    }
   ],
   "source": [
    "country = 'Poland'\n",
    "age_data_path = 'Data/age_data.xls'\n",
    "\n",
    "columns_names = {'Reference date (as of 1 July)':'year','Total population by five-year age groups (thousands)': '0 - 4', 'Unnamed: 7': '5 - 9', 'Unnamed: 8': '10 - 14', 'Unnamed: 9': '15 - 19', 'Unnamed: 10': '20 - 24', 'Unnamed: 11': '25 - 29', 'Unnamed: 12': '30 - 34', 'Unnamed: 13': '35 - 39', 'Unnamed: 14': '40 - 44', 'Unnamed: 15': '45 - 49', 'Unnamed: 16': '50 - 54', 'Unnamed: 17': '55 - 59', 'Unnamed: 18': '60 - 64', 'Unnamed: 19': '65 - 69', 'Unnamed: 20': '70 - 74', 'Unnamed: 21': '75 - 79', 'Unnamed: 22': '80 - 84', 'Unnamed: 23': '85 - 89', 'Unnamed: 24': '90 - 94', 'Unnamed: 25': '95 - 99', 'Unnamed: 26': '100+'}\n",
    "skipped_columns = {'index', 'Index', 'Variant','Major area, region, country or area*', 'Notes', 'Country code'}\n",
    "\n",
    "\n",
    "data_both = pd.read_excel(age_data_path, sheet_name='both; 1950-2005, estimates', skiprows = range(0, 5))\n",
    "data_both = data_both[data_both['Major area, region, country or area*'] == country]\n",
    "data_both = data_both.rename(columns=columns_names)\n",
    "data_both = data_both.reset_index().drop(columns = skipped_columns, axis = 1)\n",
    "\n",
    "#data_both = data_both.style.format({\n",
    "#    'year': \"{:,.0f}\"\n",
    "#    })\n",
    "data_both\n"
   ]
  },
  {
   "cell_type": "code",
   "execution_count": null,
   "metadata": {},
   "outputs": [],
   "source": []
  }
 ]
}